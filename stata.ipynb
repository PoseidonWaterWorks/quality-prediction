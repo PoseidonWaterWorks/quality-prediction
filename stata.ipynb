{
 "cells": [
  {
   "cell_type": "code",
   "execution_count": 13,
   "metadata": {},
   "outputs": [
    {
     "name": "stdout",
     "output_type": "stream",
     "text": [
      "(432, 10)\n"
     ]
    },
    {
     "data": {
      "text/html": [
       "<div>\n",
       "<style scoped>\n",
       "    .dataframe tbody tr th:only-of-type {\n",
       "        vertical-align: middle;\n",
       "    }\n",
       "\n",
       "    .dataframe tbody tr th {\n",
       "        vertical-align: top;\n",
       "    }\n",
       "\n",
       "    .dataframe thead th {\n",
       "        text-align: right;\n",
       "    }\n",
       "</style>\n",
       "<table border=\"1\" class=\"dataframe\">\n",
       "  <thead>\n",
       "    <tr style=\"text-align: right;\">\n",
       "      <th></th>\n",
       "      <th>WSA</th>\n",
       "      <th>FN</th>\n",
       "      <th>North</th>\n",
       "      <th>PD</th>\n",
       "      <th>Dist</th>\n",
       "      <th>Elev</th>\n",
       "      <th>Inc</th>\n",
       "      <th>lnPD</th>\n",
       "      <th>lnDist</th>\n",
       "      <th>lnInc</th>\n",
       "    </tr>\n",
       "  </thead>\n",
       "  <tbody>\n",
       "    <tr>\n",
       "      <th>0</th>\n",
       "      <td>0.0</td>\n",
       "      <td>0</td>\n",
       "      <td>0.0</td>\n",
       "      <td>0.213</td>\n",
       "      <td>4.661</td>\n",
       "      <td>6.0</td>\n",
       "      <td>23.940001</td>\n",
       "      <td>-1.546463</td>\n",
       "      <td>1.539230</td>\n",
       "      <td>3.175551</td>\n",
       "    </tr>\n",
       "    <tr>\n",
       "      <th>1</th>\n",
       "      <td>0.0</td>\n",
       "      <td>1</td>\n",
       "      <td>0.0</td>\n",
       "      <td>NaN</td>\n",
       "      <td>3.667</td>\n",
       "      <td>5.0</td>\n",
       "      <td>23.940001</td>\n",
       "      <td>NaN</td>\n",
       "      <td>1.299374</td>\n",
       "      <td>3.175551</td>\n",
       "    </tr>\n",
       "    <tr>\n",
       "      <th>2</th>\n",
       "      <td>1.0</td>\n",
       "      <td>0</td>\n",
       "      <td>0.0</td>\n",
       "      <td>0.280</td>\n",
       "      <td>3.022</td>\n",
       "      <td>9.0</td>\n",
       "      <td>23.940001</td>\n",
       "      <td>-1.272966</td>\n",
       "      <td>1.105919</td>\n",
       "      <td>3.175551</td>\n",
       "    </tr>\n",
       "    <tr>\n",
       "      <th>3</th>\n",
       "      <td>0.0</td>\n",
       "      <td>0</td>\n",
       "      <td>0.0</td>\n",
       "      <td>7.471</td>\n",
       "      <td>1.090</td>\n",
       "      <td>6.0</td>\n",
       "      <td>23.940001</td>\n",
       "      <td>2.011029</td>\n",
       "      <td>0.086178</td>\n",
       "      <td>3.175551</td>\n",
       "    </tr>\n",
       "    <tr>\n",
       "      <th>4</th>\n",
       "      <td>0.0</td>\n",
       "      <td>0</td>\n",
       "      <td>0.0</td>\n",
       "      <td>0.203</td>\n",
       "      <td>7.561</td>\n",
       "      <td>9.0</td>\n",
       "      <td>23.940001</td>\n",
       "      <td>-1.594549</td>\n",
       "      <td>2.023003</td>\n",
       "      <td>3.175551</td>\n",
       "    </tr>\n",
       "  </tbody>\n",
       "</table>\n",
       "</div>"
      ],
      "text/plain": [
       "   WSA  FN  North     PD   Dist  Elev        Inc      lnPD    lnDist     lnInc\n",
       "0  0.0   0    0.0  0.213  4.661   6.0  23.940001 -1.546463  1.539230  3.175551\n",
       "1  0.0   1    0.0    NaN  3.667   5.0  23.940001       NaN  1.299374  3.175551\n",
       "2  1.0   0    0.0  0.280  3.022   9.0  23.940001 -1.272966  1.105919  3.175551\n",
       "3  0.0   0    0.0  7.471  1.090   6.0  23.940001  2.011029  0.086178  3.175551\n",
       "4  0.0   0    0.0  0.203  7.561   9.0  23.940001 -1.594549  2.023003  3.175551"
      ]
     },
     "execution_count": 13,
     "metadata": {},
     "output_type": "execute_result"
    }
   ],
   "source": [
    "import pandas as pd\n",
    "import matplotlib.pyplot as plt\n",
    "a = pd.read_stata('/Users/devpatelio/Downloads/Coding/Python/indigenous_water_crisis/dataverse_files/DeatonAndLipka_EE.dta')\n",
    "\n",
    "print(a.shape)\n",
    "a.head()"
   ]
  },
  {
   "cell_type": "code",
   "execution_count": 37,
   "metadata": {},
   "outputs": [
    {
     "data": {
      "image/png": "[encoded data removed]",
      "text/plain": [
       "<Figure size 432x288 with 1 Axes>"
      ]
     },
     "metadata": {
      "needs_background": "light"
     },
     "output_type": "display_data"
    }
   ],
   "source": [
    "distances = a['Dist'].to_list()\n",
    "elevation = a['Elev'].to_list()\n",
    "scatter_sizes = a['PD'].to_list()\n",
    "\n",
    "plt.scatter(distances, elevation, s=scatter_sizes, alpha=0.3, cmap='viridis')\n",
    "plt.show()"
   ]
  },
  {
   "cell_type": "code",
   "execution_count": 22,
   "metadata": {},
   "outputs": [
    {
     "name": "stdout",
     "output_type": "stream",
     "text": [
      "0.13199999928474426\n"
     ]
    }
   ],
   "source": []
  }
 ],
 "metadata": {
  "kernelspec": {
   "display_name": "Python 3",
   "language": "python",
   "name": "python3"
  },
  "language_info": {
   "codemirror_mode": {
    "name": "ipython",
    "version": 3
   },
   "file_extension": ".py",
   "mimetype": "text/x-python",
   "name": "python",
   "nbconvert_exporter": "python",
   "pygments_lexer": "ipython3",
   "version": "3.8.3"
  }
 },
 "nbformat": 4,
 "nbformat_minor": 4
}
